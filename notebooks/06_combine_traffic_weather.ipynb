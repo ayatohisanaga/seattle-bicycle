{
 "cells": [
  {
   "cell_type": "code",
   "execution_count": 37,
   "metadata": {},
   "outputs": [],
   "source": [
    "import pandas as pd\n",
    "import os"
   ]
  },
  {
   "cell_type": "code",
   "execution_count": 38,
   "metadata": {},
   "outputs": [],
   "source": [
    "os.chdir(\"/Users/ayatohisanaga/University of Washington/2024 Spring/IMT 542/project\")"
   ]
  },
  {
   "cell_type": "code",
   "execution_count": 39,
   "metadata": {},
   "outputs": [],
   "source": [
    "traffic_directory = \"outputs/bicycle_traffic\"\n",
    "traffic_datasets = [file for file in os.listdir(traffic_directory) if file.endswith('.csv')]\n",
    "\n",
    "traffic_data = {}\n",
    "\n",
    "for dataset in traffic_datasets:\n",
    "    # Extract dataset name (filename without extension)\n",
    "    dataset_name = os.path.splitext(dataset)[0]\n",
    "    # Read the CSV file and store the DataFrame in the dictionary\n",
    "    df = pd.read_csv(os.path.join(traffic_directory, dataset))\n",
    "    # Convert date column to datetime format\n",
    "    df['date'] = pd.to_datetime(df['date'])\n",
    "    # Extract only the date component\n",
    "    df['date'] = df['date'].dt.date\n",
    "    # Store the modified DataFrame in the dictionary\n",
    "    traffic_data[dataset_name] = df"
   ]
  },
  {
   "cell_type": "code",
   "execution_count": 40,
   "metadata": {},
   "outputs": [
    {
     "data": {
      "text/html": [
       "<div>\n",
       "<style scoped>\n",
       "    .dataframe tbody tr th:only-of-type {\n",
       "        vertical-align: middle;\n",
       "    }\n",
       "\n",
       "    .dataframe tbody tr th {\n",
       "        vertical-align: top;\n",
       "    }\n",
       "\n",
       "    .dataframe thead th {\n",
       "        text-align: right;\n",
       "    }\n",
       "</style>\n",
       "<table border=\"1\" class=\"dataframe\">\n",
       "  <thead>\n",
       "    <tr style=\"text-align: right;\">\n",
       "      <th></th>\n",
       "      <th>date</th>\n",
       "      <th>temp_min</th>\n",
       "      <th>temp_max</th>\n",
       "      <th>temp_avg</th>\n",
       "      <th>precipitation</th>\n",
       "      <th>wind_speed_avg</th>\n",
       "    </tr>\n",
       "  </thead>\n",
       "  <tbody>\n",
       "    <tr>\n",
       "      <th>0</th>\n",
       "      <td>2012-12-03</td>\n",
       "      <td>45.9</td>\n",
       "      <td>49.6</td>\n",
       "      <td>48.1</td>\n",
       "      <td>0.00</td>\n",
       "      <td>8.98</td>\n",
       "    </tr>\n",
       "    <tr>\n",
       "      <th>1</th>\n",
       "      <td>2012-12-04</td>\n",
       "      <td>46.8</td>\n",
       "      <td>53.2</td>\n",
       "      <td>49.9</td>\n",
       "      <td>0.00</td>\n",
       "      <td>7.83</td>\n",
       "    </tr>\n",
       "    <tr>\n",
       "      <th>2</th>\n",
       "      <td>2012-12-05</td>\n",
       "      <td>43.2</td>\n",
       "      <td>50.7</td>\n",
       "      <td>47.1</td>\n",
       "      <td>0.00</td>\n",
       "      <td>10.01</td>\n",
       "    </tr>\n",
       "    <tr>\n",
       "      <th>3</th>\n",
       "      <td>2012-12-06</td>\n",
       "      <td>44.4</td>\n",
       "      <td>47.7</td>\n",
       "      <td>45.2</td>\n",
       "      <td>0.00</td>\n",
       "      <td>8.86</td>\n",
       "    </tr>\n",
       "    <tr>\n",
       "      <th>4</th>\n",
       "      <td>2012-12-07</td>\n",
       "      <td>43.2</td>\n",
       "      <td>46.9</td>\n",
       "      <td>45.2</td>\n",
       "      <td>0.00</td>\n",
       "      <td>7.13</td>\n",
       "    </tr>\n",
       "  </tbody>\n",
       "</table>\n",
       "</div>"
      ],
      "text/plain": [
       "         date temp_min temp_max temp_avg precipitation wind_speed_avg\n",
       "0  2012-12-03     45.9     49.6     48.1          0.00           8.98\n",
       "1  2012-12-04     46.8     53.2     49.9          0.00           7.83\n",
       "2  2012-12-05     43.2     50.7     47.1          0.00          10.01\n",
       "3  2012-12-06     44.4     47.7     45.2          0.00           8.86\n",
       "4  2012-12-07     43.2     46.9     45.2          0.00           7.13"
      ]
     },
     "execution_count": 40,
     "metadata": {},
     "output_type": "execute_result"
    }
   ],
   "source": [
    "weather_data = pd.read_json(\"outputs/weather/weather_data.json\")\n",
    "weather_data['date'] = pd.to_datetime(weather_data['date']).dt.date\n",
    "weather_data.head()"
   ]
  },
  {
   "cell_type": "code",
   "execution_count": 41,
   "metadata": {},
   "outputs": [],
   "source": [
    "merged_data = {}\n",
    "\n",
    "for dataset in traffic_datasets:\n",
    "    dataset_name = os.path.splitext(dataset)[0]\n",
    "    df = pd.read_csv(os.path.join(traffic_directory, dataset))\n",
    "    df['date'] = pd.to_datetime(df['date']).dt.date\n",
    "    \n",
    "    # Group by date and sum the traffic counts\n",
    "    daily_traffic = df.groupby('date').sum().reset_index()\n",
    "    \n",
    "    # Merge with weather data\n",
    "    merged_df = pd.merge(daily_traffic, weather_data, on='date', how='left')\n",
    "    \n",
    "    merged_data[dataset_name] = merged_df"
   ]
  },
  {
   "cell_type": "code",
   "execution_count": 43,
   "metadata": {},
   "outputs": [],
   "source": [
    "output_directory = 'website/datasets'\n",
    "\n",
    "# Merge and save datasets\n",
    "traffic_datasets = [f for f in os.listdir(traffic_directory) if f.endswith('.csv')]\n",
    "for dataset in traffic_datasets:\n",
    "    dataset_name = os.path.splitext(dataset)[0]\n",
    "    df = pd.read_csv(os.path.join(traffic_directory, dataset))\n",
    "    df['date'] = pd.to_datetime(df['date']).dt.date\n",
    "    \n",
    "    # Group by date and sum the traffic counts\n",
    "    daily_traffic = df.groupby('date').sum().reset_index()\n",
    "    \n",
    "    # Merge with weather data\n",
    "    merged_df = pd.merge(daily_traffic, weather_data, on='date', how='left')\n",
    "    \n",
    "    # Save merged dataset\n",
    "    merged_df.to_csv(os.path.join(output_directory, f'{dataset_name}_merged.csv'), index=False)\n"
   ]
  },
  {
   "cell_type": "code",
   "execution_count": null,
   "metadata": {},
   "outputs": [],
   "source": []
  }
 ],
 "metadata": {
  "kernelspec": {
   "display_name": "Python 3",
   "language": "python",
   "name": "python3"
  },
  "language_info": {
   "codemirror_mode": {
    "name": "ipython",
    "version": 3
   },
   "file_extension": ".py",
   "mimetype": "text/x-python",
   "name": "python",
   "nbconvert_exporter": "python",
   "pygments_lexer": "ipython3",
   "version": "3.11.1"
  }
 },
 "nbformat": 4,
 "nbformat_minor": 2
}
