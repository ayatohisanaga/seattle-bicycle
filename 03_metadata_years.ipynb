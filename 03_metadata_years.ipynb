{
 "cells": [
  {
   "cell_type": "code",
   "execution_count": 7,
   "metadata": {},
   "outputs": [],
   "source": [
    "import pandas as pd\n",
    "import json\n",
    "import os"
   ]
  },
  {
   "cell_type": "code",
   "execution_count": 8,
   "metadata": {},
   "outputs": [],
   "source": [
    "os.chdir(\"/Users/ayatohisanaga/University of Washington/2024 Spring/IMT 542/project\")"
   ]
  },
  {
   "cell_type": "code",
   "execution_count": 9,
   "metadata": {},
   "outputs": [],
   "source": [
    "with open(\"outputs/metadata.json\", \"r\") as file:\n",
    "    metadata = json.load(file)"
   ]
  },
  {
   "cell_type": "code",
   "execution_count": 10,
   "metadata": {},
   "outputs": [],
   "source": [
    "traffic_directory = \"outputs/bicycle_traffic\"\n",
    "traffic_datasets = [file for file in os.listdir(traffic_directory) if file.endswith('.csv')]"
   ]
  },
  {
   "cell_type": "code",
   "execution_count": 11,
   "metadata": {},
   "outputs": [],
   "source": [
    "for file in traffic_datasets:\n",
    "    file_path = os.path.join(traffic_directory, file)\n",
    "    df = pd.read_csv(file_path)\n",
    "    date_columns = [col for col in df.columns if 'date' in col.lower() or 'time' in col.lower()]\n",
    "    all_dates = []\n",
    "\n",
    "    for col in date_columns:\n",
    "        if df[col].dtype == 'object':\n",
    "            df[col] = pd.to_datetime(df[col])\n",
    "        all_dates.extend(df[col].dropna())\n",
    "\n",
    "    if all_dates:\n",
    "        start_date = min(all_dates)\n",
    "        end_date = max(all_dates)\n",
    "    \n",
    "        # Add the date ranges to the metadata file\n",
    "        identifier = file.split('.')[0]\n",
    "        for dataset in metadata:\n",
    "            if dataset['identifier'] == identifier:\n",
    "                dataset['date_range'] = {\n",
    "                    'start': start_date.strftime('%Y-%m-%d'),\n",
    "                    'end': end_date.strftime('%Y-%m-%d')\n",
    "                }\n",
    "                break"
   ]
  },
  {
   "cell_type": "code",
   "execution_count": 12,
   "metadata": {},
   "outputs": [
    {
     "name": "stdout",
     "output_type": "stream",
     "text": [
      "Date ranges added to metadata file.\n"
     ]
    }
   ],
   "source": [
    "with open(\"outputs/metadata.json\", \"w\") as outfile:\n",
    "    json.dump(metadata, outfile, indent=4)\n",
    "    \n",
    "print(\"Date ranges added to metadata file.\")"
   ]
  }
 ],
 "metadata": {
  "kernelspec": {
   "display_name": "Python 3",
   "language": "python",
   "name": "python3"
  },
  "language_info": {
   "codemirror_mode": {
    "name": "ipython",
    "version": 3
   },
   "file_extension": ".py",
   "mimetype": "text/x-python",
   "name": "python",
   "nbconvert_exporter": "python",
   "pygments_lexer": "ipython3",
   "version": "3.11.1"
  }
 },
 "nbformat": 4,
 "nbformat_minor": 2
}
