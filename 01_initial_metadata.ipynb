{
 "cells": [
  {
   "cell_type": "code",
   "execution_count": 10,
   "metadata": {},
   "outputs": [],
   "source": [
    "import requests\n",
    "from bs4 import BeautifulSoup\n",
    "import json\n",
    "import os"
   ]
  },
  {
   "cell_type": "code",
   "execution_count": 11,
   "metadata": {},
   "outputs": [],
   "source": [
    "os.chdir(\"/Users/ayatohisanaga/University of Washington/2024 Spring/IMT 542/project\")"
   ]
  },
  {
   "cell_type": "code",
   "execution_count": 12,
   "metadata": {},
   "outputs": [],
   "source": [
    "url = \"https://data.seattle.gov/browse?q=bicycle&sortBy=relevance\"\n",
    "response = requests.get(url)\n",
    "html_content = response.text"
   ]
  },
  {
   "cell_type": "code",
   "execution_count": 13,
   "metadata": {},
   "outputs": [],
   "source": [
    "soup = BeautifulSoup(html_content, 'html.parser')"
   ]
  },
  {
   "cell_type": "code",
   "execution_count": 14,
   "metadata": {},
   "outputs": [],
   "source": [
    "# initialize storage for datasets\n",
    "datasets = []\n",
    "\n",
    "# extract dataset titles, metadata elements, and description elements\n",
    "for i in range(2, 18):\n",
    "    title_selector_path = f\"body > div.siteOuterWrapper > div > div.siteContentWrapper > div > div.browse2-content > div.browse2-results-pane.clearfix > div.browse2-results > div:nth-child({i}) > div > div.browse2-result-header.clearfix > div > div.browse2-result-title > h2 > a\"\n",
    "    metadata_selector_path = f\"body > div.siteOuterWrapper > div > div.siteContentWrapper > div > div.browse2-content > div.browse2-results-pane.clearfix > div.browse2-results > div:nth-child({i}) > div > div.browse2-result-metadata > div.browse2-result-explore > a\"\n",
    "    description_selector_path = f\"body > div.siteOuterWrapper > div > div.siteContentWrapper > div > div.browse2-content > div.browse2-results-pane.clearfix > div.browse2-results > div:nth-child({i}) > div > div.browse2-result-metadata > div.browse2-result-description-container > div > div.browse2-result-description.collapsible-content > div\"\n",
    "\n",
    "    title_elements = soup.select(title_selector_path)\n",
    "    metadata_elements = soup.select(metadata_selector_path)\n",
    "    description_elements = soup.select(description_selector_path)\n",
    "\n",
    "    for title_element, metadata_element, description_element in zip(title_elements, metadata_elements, description_elements):\n",
    "        title = title_element.text.strip()\n",
    "        link = title_element['href']\n",
    "        api_docs_link = metadata_element['href'] if metadata_element else None\n",
    "        dataset_identifier = link.split('/')[-1]\n",
    "        description = description_element.text.strip()\n",
    "        # extract dataset identifier from the link\n",
    "        datasets.append({\n",
    "            \"title\": title,\n",
    "            \"link\": link,\n",
    "            \"api_docs_link\": api_docs_link,\n",
    "            \"dataset_id\": dataset_identifier,\n",
    "            \"description\": description\n",
    "        })"
   ]
  },
  {
   "cell_type": "code",
   "execution_count": 15,
   "metadata": {},
   "outputs": [],
   "source": [
    "# add regular identifiers\n",
    "identifiers = ['fremont',\n",
    "               'spokane',\n",
    "               'burke',\n",
    "               'greenway58',\n",
    "               'marion',\n",
    "               'broadway',\n",
    "               'sealth',\n",
    "               'greenway39',\n",
    "               'elliot',\n",
    "               'mts',\n",
    "               'greenway26',\n",
    "               'blanchard',\n",
    "               'westlake',\n",
    "               'second_cedar'\n",
    "               ]"
   ]
  },
  {
   "cell_type": "code",
   "execution_count": 16,
   "metadata": {},
   "outputs": [],
   "source": [
    "# add identifiers to metadata\n",
    "for dataset, identifier in zip(datasets, identifiers):\n",
    "    dataset['identifier'] = identifier"
   ]
  },
  {
   "cell_type": "code",
   "execution_count": 17,
   "metadata": {},
   "outputs": [
    {
     "data": {
      "text/plain": [
       "[{'title': 'Fremont Bridge Bicycle Counter',\n",
       "  'link': 'https://data.seattle.gov/Transportation/Fremont-Bridge-Bicycle-Counter/65db-xm6k',\n",
       "  'api_docs_link': 'https://dev.socrata.com/foundry/data.seattle.gov/65db-xm6k',\n",
       "  'dataset_id': '65db-xm6k',\n",
       "  'description': 'The Fremont Bridge Bicycle Counter began operation in October 2012 and records the number of bikes that cross the bridge using the pedestrian/bicycle pathways. Inductive loops on the east and west pathways count the passing of bicycles regardless of travel direction. The data consists of a date/time field: Date, east pathway count field: Fremont Bridge NB,  and west pathway count field: Fremont Bridge SB. The count fields represent the total bicycles detected during the specified one hour period. Direction of travel is not specified, but in general most traffic in the Fremont Bridge NB field is travelling northbound and most traffic in the Fremont Bridge SB field is travelling southbound.',\n",
       "  'identifier': 'fremont'},\n",
       " {'title': 'Spokane St Bridge Bicycle Counter',\n",
       "  'link': 'https://data.seattle.gov/Transportation/Spokane-St-Bridge-Bicycle-Counter/upms-nr8w',\n",
       "  'api_docs_link': 'https://dev.socrata.com/foundry/data.seattle.gov/upms-nr8w',\n",
       "  'dataset_id': 'upms-nr8w',\n",
       "  'description': 'The Spokane Bridge Bicycle Counter records the number of bikes that cross the bridge using the pedestrian/bicycle pathway on the south side. Inductive loops on the pathway count the passing of bicycles with travel direction. The data consists of a date/time field, east pathway count field and west pathway count field. The count fields represent the total bicycles detected during the specified one hour period.',\n",
       "  'identifier': 'spokane'},\n",
       " {'title': 'Burke Gilman Trail north of NE 70th St Bicycle and Pedestrian Counter',\n",
       "  'link': 'https://data.seattle.gov/Transportation/Burke-Gilman-Trail-north-of-NE-70th-St-Bicycle-and/2z5v-ecg8',\n",
       "  'api_docs_link': 'https://dev.socrata.com/foundry/data.seattle.gov/2z5v-ecg8',\n",
       "  'dataset_id': '2z5v-ecg8',\n",
       "  'description': 'These sensors counts both people riding bikes and pedestrians. Separate volumes are tallied for each travel mode. Wires in a diamond formation in the concrete detect bikes and an infrared sensor mounted on a wooden post detects pedestrians. The counters also capture the direction of travel for both bikes and pedestrians.',\n",
       "  'identifier': 'burke'},\n",
       " {'title': '2nd Ave Cycle Track North of Marion St Bicycle Counter',\n",
       "  'link': 'https://data.seattle.gov/Transportation/2nd-Ave-Cycle-Track-North-of-Marion-St-Bicycle-Cou/avwm-i8ym',\n",
       "  'api_docs_link': 'https://dev.socrata.com/foundry/data.seattle.gov/avwm-i8ym',\n",
       "  'dataset_id': 'avwm-i8ym',\n",
       "  'description': 'The counter consist on Inductive loops on the pathway that count the passing of bicycles with travel direction. They are very accurate and designed to be used on greenways and cycle tracks',\n",
       "  'identifier': 'greenway58'},\n",
       " {'title': 'Broadway Cycle Track North Of E Union St Bicycle Counter (Out of Service)',\n",
       "  'link': 'https://data.seattle.gov/Transportation/Broadway-Cycle-Track-North-Of-E-Union-St-Bicycle-C/j4vh-b42a',\n",
       "  'api_docs_link': 'https://dev.socrata.com/foundry/data.seattle.gov/j4vh-b42a',\n",
       "  'dataset_id': 'j4vh-b42a',\n",
       "  'description': 'Due to hardware issues, this counter is no longer in service. Counts are conducted using tubes on a quarterly basis.',\n",
       "  'identifier': 'marion'},\n",
       " {'title': 'Chief Sealth Trail North of Thistle Bicycle Counter (Out of Service)',\n",
       "  'link': 'https://data.seattle.gov/Transportation/Chief-Sealth-Trail-North-of-Thistle-Bicycle-Counte/uh8h-bme7',\n",
       "  'api_docs_link': 'https://dev.socrata.com/foundry/data.seattle.gov/uh8h-bme7',\n",
       "  'dataset_id': 'uh8h-bme7',\n",
       "  'description': 'Due to hardware issues, this counter is no longer in service. Counts are conducted using tubes on a quarterly basis.',\n",
       "  'identifier': 'broadway'},\n",
       " {'title': 'NW 58th St Greenway at 22nd Ave NW Bicycle Counter (Out of Service)',\n",
       "  'link': 'https://data.seattle.gov/Transportation/NW-58th-St-Greenway-at-22nd-Ave-NW-Bicycle-Counter/47yq-6ugv',\n",
       "  'api_docs_link': 'https://dev.socrata.com/foundry/data.seattle.gov/47yq-6ugv',\n",
       "  'dataset_id': '47yq-6ugv',\n",
       "  'description': 'This counter is no longer counting continuously and will be counted quarterly.',\n",
       "  'identifier': 'sealth'},\n",
       " {'title': '39th Ave NE Greenway at NE 62nd St Bicycle Counter (Out of Service)',\n",
       "  'link': 'https://data.seattle.gov/Transportation/39th-Ave-NE-Greenway-at-NE-62nd-St-Bicycle-Counter/3h7e-f49s',\n",
       "  'api_docs_link': 'https://dev.socrata.com/foundry/data.seattle.gov/3h7e-f49s',\n",
       "  'dataset_id': '3h7e-f49s',\n",
       "  'description': 'The counters consist of two small tube sensors stretching across the street, which are attached to a small metal counting box made by Eco-Counter. The tubes only count people riding bikes. They are very accurate and designed to be used on greenways.',\n",
       "  'identifier': 'greenway39'},\n",
       " {'title': 'Elliott Bay Trail in Myrtle Edwards Park Bicycle and Pedestrian Counter (Out of Service)',\n",
       "  'link': 'https://data.seattle.gov/Transportation/Elliott-Bay-Trail-in-Myrtle-Edwards-Park-Bicycle-a/4qej-qvrz',\n",
       "  'api_docs_link': 'https://dev.socrata.com/foundry/data.seattle.gov/4qej-qvrz',\n",
       "  'dataset_id': '4qej-qvrz',\n",
       "  'description': 'Due to hardware issues, this counter is no longer in service.',\n",
       "  'identifier': 'elliot'},\n",
       " {'title': '26th Ave SW Greenway at SW Oregon St Bicycle Counter (Out of Service)',\n",
       "  'link': 'https://data.seattle.gov/Transportation/26th-Ave-SW-Greenway-at-SW-Oregon-St-Bicycle-Count/mefu-7eau',\n",
       "  'api_docs_link': 'https://dev.socrata.com/foundry/data.seattle.gov/mefu-7eau',\n",
       "  'dataset_id': 'mefu-7eau',\n",
       "  'description': 'The counters consist of two small tube sensors stretching across the street, which are attached to a small metal counting box made by Eco-Counter. The tubes only count people riding bikes. They are very accurate and designed to be used on greenways.',\n",
       "  'identifier': 'mts'},\n",
       " {'title': 'MTS Trail west of I-90 Bridge Bicycle and Pedestrian Counter (Out of Service)',\n",
       "  'link': 'https://data.seattle.gov/Transportation/MTS-Trail-west-of-I-90-Bridge-Bicycle-and-Pedestri/u38e-ybnc',\n",
       "  'api_docs_link': 'https://dev.socrata.com/foundry/data.seattle.gov/u38e-ybnc',\n",
       "  'dataset_id': 'u38e-ybnc',\n",
       "  'description': 'Due to hardware issues, this counter is no longer in service. Counts are conducted using tubes on a quarterly basis.',\n",
       "  'identifier': 'greenway26'},\n",
       " {'title': '7th Ave South of Blanchard St Bicycle Counter',\n",
       "  'link': 'https://data.seattle.gov/Transportation/7th-Ave-South-of-Blanchard-St-Bicycle-Counter/qfzg-zmyj',\n",
       "  'api_docs_link': 'https://dev.socrata.com/foundry/data.seattle.gov/qfzg-zmyj',\n",
       "  'dataset_id': 'qfzg-zmyj',\n",
       "  'description': \"The counter consist on Inductive loops on the protected north bike lane that count the passing of bicycles in the NW direction. They are very accurate and designed to be used on greenways and cycle tracks. This counter currently doesn't count bikes in the south bike lane.\",\n",
       "  'identifier': 'blanchard'},\n",
       " {'title': 'Westlake PBL at Newton St Bicycle Counter (Out of Service)',\n",
       "  'link': 'https://data.seattle.gov/Transportation/Westlake-PBL-at-Newton-St-Bicycle-Counter-Out-of-S/675b-cqew',\n",
       "  'api_docs_link': 'https://dev.socrata.com/foundry/data.seattle.gov/675b-cqew',\n",
       "  'dataset_id': '675b-cqew',\n",
       "  'description': 'Due to hardware issues, this counter is no longer in service. Counts are conducted using tubes on a quarterly basis.',\n",
       "  'identifier': 'westlake'},\n",
       " {'title': '2nd Ave Cycle Track South of Cedar St Bicycle Counter (Out of Service)',\n",
       "  'link': 'https://data.seattle.gov/Transportation/2nd-Ave-Cycle-Track-South-of-Cedar-St-Bicycle-Coun/heuk-48p8',\n",
       "  'api_docs_link': 'https://dev.socrata.com/foundry/data.seattle.gov/heuk-48p8',\n",
       "  'dataset_id': 'heuk-48p8',\n",
       "  'description': 'The counters consist of two small tube sensors stretching across the track, which are attached to a small metal counting box made by Eco-Counter. The tubes only count people riding bikes. They are very accurate and designed to be used on greenways and cycle tracks.',\n",
       "  'identifier': 'second_cedar'}]"
      ]
     },
     "execution_count": 17,
     "metadata": {},
     "output_type": "execute_result"
    }
   ],
   "source": [
    "datasets"
   ]
  },
  {
   "cell_type": "code",
   "execution_count": 18,
   "metadata": {},
   "outputs": [
    {
     "name": "stdout",
     "output_type": "stream",
     "text": [
      "Dataset information written to outputs/metadata.json.\n"
     ]
    }
   ],
   "source": [
    "# Write dataset information to a JSON file\n",
    "with open('outputs/metadata.json', 'w') as json_file:\n",
    "    json.dump(datasets, json_file, indent=4)\n",
    "\n",
    "print(\"Dataset information written to outputs/metadata.json.\")"
   ]
  }
 ],
 "metadata": {
  "kernelspec": {
   "display_name": "Python 3",
   "language": "python",
   "name": "python3"
  },
  "language_info": {
   "codemirror_mode": {
    "name": "ipython",
    "version": 3
   },
   "file_extension": ".py",
   "mimetype": "text/x-python",
   "name": "python",
   "nbconvert_exporter": "python",
   "pygments_lexer": "ipython3",
   "version": "3.11.1"
  }
 },
 "nbformat": 4,
 "nbformat_minor": 2
}
