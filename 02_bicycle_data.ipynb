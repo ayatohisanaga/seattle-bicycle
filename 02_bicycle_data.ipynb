{
 "cells": [
  {
   "cell_type": "code",
   "execution_count": 2,
   "metadata": {},
   "outputs": [],
   "source": [
    "import pandas as pd\n",
    "import json\n",
    "from sodapy import Socrata\n",
    "import os"
   ]
  },
  {
   "cell_type": "code",
   "execution_count": 3,
   "metadata": {},
   "outputs": [],
   "source": [
    "os.chdir(\"/Users/ayatohisanaga/University of Washington/2024 Spring/IMT 542/project\")"
   ]
  },
  {
   "cell_type": "code",
   "execution_count": 4,
   "metadata": {},
   "outputs": [],
   "source": [
    "with open(\"outputs/metadata.json\", \"r\") as file:\n",
    "    metadata = json.load(file)"
   ]
  },
  {
   "cell_type": "code",
   "execution_count": 5,
   "metadata": {},
   "outputs": [
    {
     "name": "stderr",
     "output_type": "stream",
     "text": [
      "WARNING:root:Requests made without an app_token will be subject to strict throttling limits.\n"
     ]
    }
   ],
   "source": [
    "# Create a mapping from dataset_id to identifier\n",
    "id_to_identifier = {dataset['dataset_id']: dataset['identifier'] for dataset in metadata}\n",
    "\n",
    "client = Socrata(\"data.seattle.gov\", None)\n",
    "\n",
    "# Fetch data, extract date, aggregate to daily, and save CSV files with English identifiers\n",
    "for dataset in metadata:\n",
    "    dataset_id = dataset[\"dataset_id\"]\n",
    "    identifier = dataset[\"identifier\"]\n",
    "    \n",
    "    data = client.get(dataset_id, limit=100000)\n",
    "    df = pd.DataFrame.from_records(data)\n",
    "    \n",
    "    df['date'] = pd.to_datetime(df['date'])\n",
    "\n",
    "    df['date'] = df['date'].dt.date\n",
    "\n",
    "    df.to_csv(f\"outputs/bicycle_traffic/{identifier}.csv\", index=False)"
   ]
  },
  {
   "cell_type": "code",
   "execution_count": null,
   "metadata": {},
   "outputs": [],
   "source": []
  }
 ],
 "metadata": {
  "kernelspec": {
   "display_name": "Python 3",
   "language": "python",
   "name": "python3"
  },
  "language_info": {
   "codemirror_mode": {
    "name": "ipython",
    "version": 3
   },
   "file_extension": ".py",
   "mimetype": "text/x-python",
   "name": "python",
   "nbconvert_exporter": "python",
   "pygments_lexer": "ipython3",
   "version": "3.11.1"
  }
 },
 "nbformat": 4,
 "nbformat_minor": 2
}
